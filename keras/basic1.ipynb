{
  "cells": [
    {
      "cell_type": "markdown",
      "metadata": {
        "collapsed": true,
        "pycharm": {
          "name": "#%% md\n"
        }
      },
      "source": "# Basic Tutorial 1"
    },
    {
      "cell_type": "markdown",
      "metadata": {
        "pycharm": {
          "metadata": false
        }
      },
      "source": "This tutorial will guide how to use tf.keras, a friendly high-level API of Tensorflow, to build a simple model. "
    },
    {
      "cell_type": "markdown",
      "metadata": {
        "pycharm": {
          "metadata": false
        }
      },
      "source": [
        "## Import tf.keras"
      ]
    },
    {
      "cell_type": "markdown",
      "metadata": {
        "pycharm": {
          "metadata": false
        }
      },
      "source": [
        "tf.keras is Tensorflow\u0027s implementation of Keras API specification.\n",
        "\n",
        "To get started, import  tf.keras"
      ]
    },
    {
      "cell_type": "code",
      "execution_count": 1,
      "metadata": {
        "pycharm": {
          "is_executing": false,
          "metadata": false,
          "name": "#%%\n"
        }
      },
      "outputs": [
        {
          "name": "stdout",
          "text": [
            "1.13.1\n2.2.4-tf\n"
          ],
          "output_type": "stream"
        }
      ],
      "source": [
        "import tensorflow as tf\n",
        "from tensorflow.python.keras import layers\n",
        "from tensorflow.python.keras.utils import plot_model\n",
        "\n",
        "print(tf.VERSION)\n",
        "print(tf.keras.__version__)"
      ]
    },
    {
      "cell_type": "markdown",
      "metadata": {
        "pycharm": {
          "metadata": false
        }
      },
      "source": [
        "## Build a simple model "
      ]
    },
    {
      "cell_type": "markdown",
      "metadata": {
        "pycharm": {
          "metadata": false
        }
      },
      "source": [
        "### Sequence model"
      ]
    },
    {
      "cell_type": "markdown",
      "metadata": {
        "pycharm": {
          "metadata": false
        }
      },
      "source": [
        "In Keras, a model is a graph of layers. \n",
        "tf.keras.Sequence, the most common type of Keras model, is stack of layers.\n",
        "\n",
        "In this tutorial, we build a simple, fully connected network as multi-layer perceptron. "
      ]
    },
    {
      "cell_type": "code",
      "execution_count": 6,
      "metadata": {
        "pycharm": {
          "is_executing": false,
          "metadata": false,
          "name": "#%%\n"
        }
      },
      "outputs": [],
      "source": [
        "# create a model\n",
        "model \u003d tf.keras.Sequential()\n",
        "# add a densely-connected (full-connected) ;ayer with 64 hidden units\n",
        "model.add(layers.Dense(64, input_dim\u003d1, activation\u003d\u0027relu\u0027))\n",
        "# add another same hidden layer\n",
        "model.add(layers.Dense(64, activation\u003d\u0027relu\u0027))\n",
        "# add a softmax layer with 10 output units\n",
        "model.add(layers.Dense(10, activation\u003d\u0027softmax\u0027))"
      ]
    },
    {
      "cell_type": "markdown",
      "metadata": {
        "pycharm": {}
      },
      "source": [
        "Print Keras\u0027s model architect."
      ]
    },
    {
      "cell_type": "code",
      "execution_count": 3,
      "metadata": {
        "pycharm": {
          "is_executing": false
        }
      },
      "outputs": [
        {
          "name": "stdout",
          "text": [
            "_________________________________________________________________\nLayer (type)                 Output Shape              Param #   \n\u003d\u003d\u003d\u003d\u003d\u003d\u003d\u003d\u003d\u003d\u003d\u003d\u003d\u003d\u003d\u003d\u003d\u003d\u003d\u003d\u003d\u003d\u003d\u003d\u003d\u003d\u003d\u003d\u003d\u003d\u003d\u003d\u003d\u003d\u003d\u003d\u003d\u003d\u003d\u003d\u003d\u003d\u003d\u003d\u003d\u003d\u003d\u003d\u003d\u003d\u003d\u003d\u003d\u003d\u003d\u003d\u003d\u003d\u003d\u003d\u003d\u003d\u003d\u003d\u003d\ndense (Dense)                (None, 64)                128       \n_________________________________________________________________\ndense_1 (Dense)              (None, 64)                4160      \n_________________________________________________________________\ndense_2 (Dense)              (None, 10)                650       \n\u003d\u003d\u003d\u003d\u003d\u003d\u003d\u003d\u003d\u003d\u003d\u003d\u003d\u003d\u003d\u003d\u003d\u003d\u003d\u003d\u003d\u003d\u003d\u003d\u003d\u003d\u003d\u003d\u003d\u003d\u003d\u003d\u003d\u003d\u003d\u003d\u003d\u003d\u003d\u003d\u003d\u003d\u003d\u003d\u003d\u003d\u003d\u003d\u003d\u003d\u003d\u003d\u003d\u003d\u003d\u003d\u003d\u003d\u003d\u003d\u003d\u003d\u003d\u003d\u003d\nTotal params: 4,938\nTrainable params: 4,938\nNon-trainable params: 0\n_________________________________________________________________\nNone\n"
          ],
          "output_type": "stream"
        }
      ],
      "source": "print(model.summary())"
    },
    {
      "cell_type": "markdown",
      "source": "### Configure layers",
      "metadata": {
        "pycharm": {
          "metadata": false
        }
      }
    },
    {
      "cell_type": "markdown",
      "source": "For layers definition, there are some common parameters we should notice:\n- activation: set activation function for the layer. By default, no activtion is applied.\n- kernel_initializer and bias_initializer: initialization schemes of layer\u0027s weights (kernel and bias).\n- kernel_regularizer and bias_regularizer: regularization schemes for layer\u0027s weights, like L1/L2 regularization.\nBy default, no regularization is applied.",
      "metadata": {
        "pycharm": {
          "metadata": false,
          "name": "#%% md\n"
        }
      }
    },
    {
      "cell_type": "code",
      "execution_count": 10,
      "outputs": [
        {
          "name": "stdout",
          "text": [
            "_________________________________________________________________\nLayer (type)                 Output Shape              Param #   \n\u003d\u003d\u003d\u003d\u003d\u003d\u003d\u003d\u003d\u003d\u003d\u003d\u003d\u003d\u003d\u003d\u003d\u003d\u003d\u003d\u003d\u003d\u003d\u003d\u003d\u003d\u003d\u003d\u003d\u003d\u003d\u003d\u003d\u003d\u003d\u003d\u003d\u003d\u003d\u003d\u003d\u003d\u003d\u003d\u003d\u003d\u003d\u003d\u003d\u003d\u003d\u003d\u003d\u003d\u003d\u003d\u003d\u003d\u003d\u003d\u003d\u003d\u003d\u003d\u003d\ndense_11 (Dense)             (None, 64)                128       \n_________________________________________________________________\ndense_12 (Dense)             (None, 64)                4160      \n_________________________________________________________________\ndense_13 (Dense)             (None, 64)                4160      \n_________________________________________________________________\ndense_14 (Dense)             (None, 64)                4160      \n_________________________________________________________________\ndense_15 (Dense)             (None, 64)                4160      \n\u003d\u003d\u003d\u003d\u003d\u003d\u003d\u003d\u003d\u003d\u003d\u003d\u003d\u003d\u003d\u003d\u003d\u003d\u003d\u003d\u003d\u003d\u003d\u003d\u003d\u003d\u003d\u003d\u003d\u003d\u003d\u003d\u003d\u003d\u003d\u003d\u003d\u003d\u003d\u003d\u003d\u003d\u003d\u003d\u003d\u003d\u003d\u003d\u003d\u003d\u003d\u003d\u003d\u003d\u003d\u003d\u003d\u003d\u003d\u003d\u003d\u003d\u003d\u003d\u003d\nTotal params: 16,768\nTrainable params: 16,768\nNon-trainable params: 0\n_________________________________________________________________\nNone\n"
          ],
          "output_type": "stream"
        }
      ],
      "source": "model \u003d tf.keras.Sequential()\n\n# create a sigmoid layer\nlayer1 \u003d layers.Dense(64, input_dim\u003d1, activation\u003d\u0027sigmoid\u0027)\n# or:\n# layer.Dense(64, activattion\u003dtf.sigmoid)\nmodel.add(layer1)\n\n# create a linear with L1 regularization of factor 0.01 applied to kernel\nlayer2 \u003d layers.Dense(64, kernel_regularizer\u003dtf.keras.regularizers.l1(0.01))\nmodel.add(layer2)\n\n# create a linear with L2 regularization of factor 0.01 applied to bias\nlayer3 \u003d layers.Dense(64, bias_regularizer\u003dtf.keras.regularizers.l2(0.01))\nmodel.add(layer3)\n\n# create a linear layer with kernel initialized to a random orthogonal matrix:\nlayer4 \u003d layers.Dense(64, kernel_initializer\u003d\u0027orthogonal\u0027)\nmodel.add(layer4)\n\n# create a linear layer with bias initialized to 2.0:\nlayer5 \u003d layers.Dense(64, bias_initializer\u003dtf.keras.initializers.constant(2.0))\nmodel.add(layer5)\n\n# display model structure\nprint(model.summary())",
      "metadata": {
        "pycharm": {
          "metadata": false,
          "name": "#%%\n",
          "is_executing": false
        }
      }
    }
  ],
  "metadata": {
    "kernelspec": {
      "display_name": "PyCharm (Tensorflow-for-Deep-Learning)",
      "language": "python",
      "name": "pycharm-a651518e"
    },
    "language_info": {
      "codemirror_mode": {
        "name": "ipython",
        "version": 3
      },
      "file_extension": ".py",
      "mimetype": "text/x-python",
      "name": "python",
      "nbconvert_exporter": "python",
      "pygments_lexer": "ipython3",
      "version": "3.6.7"
    }
  },
  "nbformat": 4,
  "nbformat_minor": 1
}